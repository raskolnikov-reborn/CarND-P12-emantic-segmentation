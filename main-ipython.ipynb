{
 "cells": [
  {
   "cell_type": "code",
   "execution_count": 1,
   "metadata": {
    "collapsed": true
   },
   "outputs": [],
   "source": [
    "import os.path\n",
    "import warnings\n",
    "import tensorflow as tf\n",
    "import glob\n",
    "import project_tests as ptests\n",
    "import helper"
   ]
  },
  {
   "cell_type": "code",
   "execution_count": 2,
   "metadata": {
    "collapsed": true
   },
   "outputs": [],
   "source": [
    "# Global variables for paths\n",
    "data_dir = './data'\n",
    "runs_dir = './runs'\n",
    "training_dir = data_dir + '/data_road/training'\n",
    "training_size = len(glob.glob(training_dir + '/calib/*.*'))\n",
    "vgg_dir = data_dir + '/vgg'"
   ]
  },
  {
   "cell_type": "code",
   "execution_count": 3,
   "metadata": {
    "collapsed": false
   },
   "outputs": [
    {
     "name": "stdout",
     "output_type": "stream",
     "text": [
      "Assertion Successful: TF Version: 1.0.0\n"
     ]
    }
   ],
   "source": [
    "# Check Tensorflow Version\n",
    "from distutils.version import LooseVersion\n",
    "assert LooseVersion(tf.__version__) >= LooseVersion('1.0'), 'Assertion Failed. Tensorflow > 1.0 current version is {}'.format(tf.__version__)\n",
    "\n",
    "# Print version if assertion is successful\n",
    "print('Assertion Successful: TF Version: {}'.format(tf.__version__))"
   ]
  },
  {
   "cell_type": "code",
   "execution_count": 4,
   "metadata": {
    "collapsed": false
   },
   "outputs": [
    {
     "name": "stdout",
     "output_type": "stream",
     "text": [
      "Default GPU : /gpu:0\n"
     ]
    }
   ],
   "source": [
    "# Check GPU availability\n",
    "from tensorflow import test as tft\n",
    "if not tft.gpu_device_name():\n",
    "  warnings.warn('GPU not found... Please reconsider working with a GPU for training')\n",
    "else:\n",
    "  print('Default GPU : {}'.format(tft.gpu_device_name()))"
   ]
  },
  {
   "cell_type": "code",
   "execution_count": 5,
   "metadata": {
    "collapsed": true
   },
   "outputs": [],
   "source": [
    "# Training constants\n",
    "num_classes_ = 2\n",
    "img_shape_ = (160, 576)\n",
    "\n",
    "epochs_ = 20\n",
    "batch_size_ = 1\n",
    "\n",
    "learning_rate_ = 0.0001\n",
    "dropout_ = 0.75"
   ]
  },
  {
   "cell_type": "code",
   "execution_count": 6,
   "metadata": {
    "collapsed": false
   },
   "outputs": [],
   "source": [
    "# Place_holders (_ph)\n",
    "label_ph = tf.placeholder(tf.float32, [None, \n",
    "                                       img_shape_[0],\n",
    "                                       img_shape_[1], \n",
    "                                       num_classes_])\n",
    "\n",
    "# Learning Rate\n",
    "learning_rate_ph = tf.placeholder(tf.float32)\n",
    "\n",
    "# keep_prob\n",
    "keep_prob_ph = tf.placeholder(tf.float32)"
   ]
  },
  {
   "cell_type": "code",
   "execution_count": 7,
   "metadata": {
    "collapsed": true
   },
   "outputs": [],
   "source": [
    "# Initialize training losses to null\n",
    "all_training_losses = [] "
   ]
  },
  {
   "cell_type": "code",
   "execution_count": 8,
   "metadata": {
    "collapsed": true
   },
   "outputs": [],
   "source": [
    "def load_vgg(sess, vgg_dir):\n",
    "    \"\"\"\n",
    "    Load Pretrained VGG Model\n",
    "    @param sess:  Tf Session\n",
    "    @param vgg_dir: Directory containing vgg \"variables/\" and \"saved_model.pb\"\n",
    "    return: VGG Tensor Tuple(image_input, keep_prob, layer3, layer4, layer7)\n",
    "    \"\"\"\n",
    "    # Load Model with Weights from vgg directory\n",
    "    model = tf.saved_model.loader.load(sess, ['vgg16'], vgg_dir)\n",
    "\n",
    "    # Setup tensors to get from graph ( vgg after loading)\n",
    "    graph = tf.get_default_graph()\n",
    "\n",
    "    # get image input\n",
    "    image_input = graph.get_tensor_by_name('image_input:0')\n",
    "\n",
    "    # get keep probability\n",
    "    keep_prob = graph.get_tensor_by_name('keep_prob:0')\n",
    "\n",
    "    # Get layer outputs\n",
    "    layer_3 = graph.get_tensor_by_name('layer3_out:0')\n",
    "    layer_4 = graph.get_tensor_by_name('layer4_out:0')\n",
    "    layer_7 = graph.get_tensor_by_name('layer7_out:0')\n",
    "\n",
    "    # return as 5D list\n",
    "    return image_input, keep_prob, layer_3, layer_4, layer_7"
   ]
  },
  {
   "cell_type": "code",
   "execution_count": 9,
   "metadata": {
    "collapsed": true
   },
   "outputs": [],
   "source": [
    "def conv_1x1(layer, layer_name):\n",
    "  \"\"\" convolve layer by (1x1) to preserve spatial information \"\"\"\n",
    "  return tf.layers.conv2d(inputs = layer,\n",
    "                          filters =  num_classes_,\n",
    "                          kernel_size = (1, 1),\n",
    "                          strides = (1, 1),\n",
    "                          name = layer_name)"
   ]
  },
  {
   "cell_type": "code",
   "execution_count": 10,
   "metadata": {
    "collapsed": true
   },
   "outputs": [],
   "source": [
    "def deconvolve(layer, k, s, layer_name):\n",
    "  \"\"\" Transpose Convolve/ deconvolve a layer with arguments as params \"\"\"\n",
    "  return tf.layers.conv2d_transpose(inputs = layer,\n",
    "                                    filters = num_classes_,\n",
    "                                    kernel_size = (k, k),\n",
    "                                    strides = (s, s),\n",
    "                                    padding = 'same',\n",
    "                                    name = layer_name)"
   ]
  },
  {
   "cell_type": "code",
   "execution_count": 11,
   "metadata": {
    "collapsed": true
   },
   "outputs": [],
   "source": [
    "def layers(vgg_layer_3_out, vgg_layer_4_out, vgg_layer_7_out, num_classes = num_classes_):\n",
    "    \"\"\"\n",
    "    # Create layers for the FCN.\n",
    "    vgg_layer_n_out: TF Tensor for VGG Layer n output\n",
    "    num_classes: Number of classes to classify\n",
    "    return: The Tensor for the last layer of output\n",
    "    \"\"\"\n",
    "\n",
    "\n",
    "    # Apply a 1x1 convolution to all argument layers\n",
    "    layer_3x = conv_1x1(layer = vgg_layer_3_out, layer_name = \"layer3conv1x1\")\n",
    "    layer_4x = conv_1x1(layer = vgg_layer_4_out, layer_name = \"layer4conv1x1\")\n",
    "    layer_7x = conv_1x1(layer = vgg_layer_7_out, layer_name = \"layer7conv1x1\")\n",
    "\n",
    "    # Add decoder layers to the network with skip connections\n",
    "    # Deconvolve\n",
    "    decoder_layer_1 = deconvolve(layer = layer_7x, k = 4, s = 2, layer_name = \"decoderlayer1\")\n",
    "    \n",
    "    # Sum (skip connection)\n",
    "    decoder_layer_2 = tf.add(decoder_layer_1, layer_4x, name = \"decoderlayer2\")\n",
    "    \n",
    "    # Deconvolve\n",
    "    decoder_layer_3 = deconvolve(layer = decoder_layer_2, k = 4, s = 2, layer_name = \"decoderlayer3\")\n",
    "\n",
    "    # Sum (skip connection)\n",
    "    decoder_layer_4 = tf.add(decoder_layer_3, layer_3x, name = \"decoderlayer4\")\n",
    "    \n",
    "    # Deconvolve\n",
    "    decoderlayer_output = deconvolve(layer = decoderlayer4, k = 16, s = 8, layer_name = \"decoderlayer_output\")\n",
    "\n",
    "    return decoderlayer_output"
   ]
  },
  {
   "cell_type": "code",
   "execution_count": 12,
   "metadata": {
    "collapsed": false
   },
   "outputs": [],
   "source": [
    "def layers_verbose(vgg_layer_3_out, vgg_layer_4_out, vgg_layer7_out, num_classes = num_classes_):\n",
    "\n",
    "    \"\"\"\n",
    "    # Create layers for the FCN.\n",
    "    vgg_layer_n_out: TF Tensor for VGG Layer n output\n",
    "    num_classes: Number of classes to classify\n",
    "    return: List of tensors for all layers\n",
    "    \"\"\"\n",
    "    # Apply a 1x1 convolution to encoder layers\n",
    "    layer3x = conv_1x1(layer = vgg_layer_3_out, layer_name = \"layer3conv1x1\")\n",
    "    layer4x = conv_1x1(layer = vgg_layer_4_out, layer_name = \"layer4conv1x1\")\n",
    "    layer7x = conv_1x1(layer = vgg_layer7_out, layer_name = \"layer7conv1x1\")\n",
    "\n",
    "    # Add decoder layers to the network with skip connections\n",
    "    # Deconvolve\n",
    "    decoder_layer_1 = deconvolve(layer = layer_7x, k = 4, s = 2, layer_name = \"decoderlayer1\")\n",
    "    \n",
    "    # Sum (skip connection)\n",
    "    decoder_layer_2 = tf.add(decoder_layer_1, layer_4x, name = \"decoderlayer2\")\n",
    "    \n",
    "    # Deconvolve\n",
    "    decoder_layer_3 = deconvolve(layer = decoder_layer_2, k = 4, s = 2, layer_name = \"decoderlayer3\")\n",
    "\n",
    "    # Sum (skip connection)\n",
    "    decoder_layer_4 = tf.add(decoder_layer_3, layer3x, name = \"decoderlayer4\")\n",
    "    \n",
    "    # Deconvolve\n",
    "    decoderlayer_output = deconvolve(layer = decoderlayer4, k = 16, s = 8, layer_name = \"decoderlayer_output\")\n",
    "\n",
    "    # Return all the layers for a more detailed output\n",
    "    return vgg_layer_3_out, vgg_layer_4_out, vgg_layer_7_out, layer3x, layer4x, layer7x, \\\n",
    "         decoder_layer_1, decoder_layer_2, decoder_layer_3, decoder_layer_4, decoderlayer_output"
   ]
  },
  {
   "cell_type": "code",
   "execution_count": 13,
   "metadata": {
    "collapsed": true
   },
   "outputs": [],
   "source": [
    "def optimize(nn_last_layer, correct_label, learning_rate, num_classes = num_classes_):\n",
    "    \"\"\"\n",
    "    TF loss and optimizer operations.\n",
    "    nn_last_layer: last layer tensor\n",
    "    correct_label: label image placeholder\n",
    "    learning_rate: learning rate placeholder\n",
    "    num_classes: Number of classes to classify\n",
    "    return: logits, train_op, cross_entropy_loss as python list\n",
    "    \"\"\"\n",
    "    # Flatten 4D tensors to 2D\n",
    "    # (pixel,class)\n",
    "    logits = tf.reshape(nn_last_layer, (-1, num_classes))\n",
    "    class_labels = tf.reshape(correct_label, (-1, num_classes))\n",
    "\n",
    "    # The cross_entropy_loss is the cost heuristic\n",
    "    cross_entropy = tf.nn.softmax_cross_entropy_with_logits(logits = logits,\n",
    "                                                            labels = class_labels)\n",
    "    # use the reduce mean method\n",
    "    cross_entropy_loss = tf.reduce_mean(cross_entropy)\n",
    "\n",
    "    # Use the standard Adam optimizer to minimize loss\n",
    "    train_op = tf.train.AdamOptimizer(learning_rate).minimize(cross_entropy_loss)\n",
    "\n",
    "    # return logits, train_op, cross_entropy_loss as python list\n",
    "    return logits, train_op, cross_entropy_loss"
   ]
  },
  {
   "cell_type": "code",
   "execution_count": 14,
   "metadata": {
    "collapsed": true
   },
   "outputs": [],
   "source": [
    "def train_nn(sess, epochs, batch_size, get_batches_fn, train_op,\n",
    "             cross_entropy_loss, input_image,\n",
    "             correct_label, keep_prob, learning_rate):\n",
    "    \"\"\"\n",
    "    Train the neural network and provide debug prints during training\n",
    "    Arguments: \n",
    "    sess: TF Session\n",
    "    epochs: Number of epochs\n",
    "    batch_size: Batch size\n",
    "    get_batches_fn: Function to get batches of training data\n",
    "    train_op: training operation\n",
    "    cross_entropy_loss: Loss Tensor\n",
    "    input_image: TF Placeholder for input images\n",
    "    correct_label: TF Placeholder for label images\n",
    "    keep_prob: TF Placeholder for dropout keep probability\n",
    "    learning_rate: TF Placeholder for learning rate\n",
    "    \"\"\"\n",
    "    # For all epochs\n",
    "    for epoch in range(EPOCHS):\n",
    "        #initialize losses and counter\n",
    "        losses, i = [], 0\n",
    "        \n",
    "        # For all images in the batch\n",
    "        for images, labels in get_batches_fn(BATCH_SIZE):\n",
    "            \n",
    "            # increment batch counter by 1\n",
    "            i += 1\n",
    "            \n",
    "            # Create the feed by assigining values to placeholders\n",
    "            feed = {input_image: images,\n",
    "                    label_ph: labels,\n",
    "                    keep_prob_ph: dropout_,\n",
    "                    learning_rate_ph: learning_rate_ }\n",
    "\n",
    "            # Run the training op with the created feed\n",
    "            _, partial_loss = sess.run([train_op, cross_entropy_loss], feed_dict = feed)\n",
    "\n",
    "            # display output\n",
    "            print(\"- - - - - >Iteration: \", i, \"----->Partial loss:\", partial_loss)\n",
    "            \n",
    "            # Add to list of losses\n",
    "            losses.append(partial_loss)\n",
    "\n",
    "        # After each batch compute net average loss\n",
    "        training_loss = sum(losses) / len(losses)\n",
    "        \n",
    "        # Add to list of global training losses\n",
    "        all_training_losses.append(training_loss)\n",
    "\n",
    "        # Print Training loss at end of each Epoch\n",
    "        print(\"***************\")\n",
    "        print(\"Epoch: \", epoch + 1, \" of \", epochs_, \"training loss: \", training_loss)\n",
    "        print(\"***************\")\n"
   ]
  },
  {
   "cell_type": "code",
   "execution_count": 15,
   "metadata": {
    "collapsed": true
   },
   "outputs": [],
   "source": [
    "def run_tests():\n",
    "    \"\"\"\n",
    "    Run tests to test whether functions are correctly created\n",
    "    \"\"\"\n",
    "    tests.test_layers(layers)\n",
    "    tests.test_optimize(optimize)\n",
    "    tests.test_for_kitti_dataset(data_dir)\n",
    "    tests.test_train_nn(train_nn)"
   ]
  },
  {
   "cell_type": "code",
   "execution_count": 16,
   "metadata": {
    "collapsed": true
   },
   "outputs": [],
   "source": [
    "def run():\n",
    "    \n",
    "    print(\"Training data size\", training_size)\n",
    "    \n",
    "    # download vgg model if it doesnt exist\n",
    "    helper.maybe_download_pretrained_vgg(data_dir)\n",
    "    \n",
    "    # use the get batches function from the helper.py provided\n",
    "    get_batches_fn = helper.gen_batch_function(training_dir, img_shape_)\n",
    "    \n",
    "    # Using the default session\n",
    "    with tf.Session() as session:\n",
    "        \n",
    "        # Returns the input dropout and output layers from vgg\n",
    "        image_input, keep_prob, layer_3, layer_4, layer_7 = load_vgg(session, vgg_dir)\n",
    "\n",
    "        # Create the layers and get the output\n",
    "        model_output = layers(layer_3, layer_4, layer_7, num_classes_)\n",
    "\n",
    "        # Get the logits, training op and the loss\n",
    "        logits, train_op, cross_entropy_loss = optimize(model_output, label_ph, learning_rate_ph, num_classes_)\n",
    "\n",
    "        # Initilize all variables\n",
    "        session.run([tf.global_variables_initializer(), tf.local_variables_initializer()])\n",
    "\n",
    "        # Run the training step\n",
    "        train_nn(session, epochs_, batch_size_, get_batches_fn, \n",
    "                 train_op, cross_entropy_loss, image_input,\n",
    "                 label_ph, keep_prob, learning_rate)\n",
    "\n",
    "        # Save inference data\n",
    "        helper.save_inference_samples(runs_dir, data_dir, session, img_shape_, logits, keep_prob_ph, image_input)"
   ]
  },
  {
   "cell_type": "code",
   "execution_count": 17,
   "metadata": {
    "collapsed": true
   },
   "outputs": [],
   "source": [
    "import numpy as np \n",
    "\n",
    "def network_shapes():\n",
    "    \n",
    "    with tf.Session() as sess:\n",
    "        # Create a random 3 channel input\n",
    "        x = np.random.randn(1, 160, 576, 3)\n",
    "\n",
    "        # Create inputs, dropout and vgg out layers\n",
    "        image_input, keep_prob, layer_3, layer_4, layer_7 = load_vgg(sess, vgg_dir)\n",
    "        \n",
    "        # Create verbose layers\n",
    "        op = layers_verbose(layer_3, layer_4, layer_7, num_classes_)\n",
    "\n",
    "        # initialize the variables \n",
    "        sess.run([tf.global_variables_initializer(), tf.local_variables_initializer()])\n",
    "\n",
    "        # Run the optimizer\n",
    "        l3, l4, l7, l3x, l4x, l7x, d1, s2, d3, s4, d5 = sess.run(op, feed_dict = {image_input: x, keep_prob_ph: 1.0})\n",
    "\n",
    "        print(\"------------------\")\n",
    "        print(\"shapes of layers:\") \n",
    "        print(\"------------------\")\n",
    "\n",
    "        print(\"layer3 -->\", l3.shape)\n",
    "        print(\"layer4 -->\", l4.shape)\n",
    "        print(\"layer7 -->\", l7.shape)\n",
    "        print(\"layer3 conv1x1 -->\", l3x.shape)\n",
    "        print(\"layer4 conv1x1 -->\", l4x.shape)\n",
    "        print(\"layer7 conv1x1-->\", l7x.shape)\n",
    "        print(\"decoderlayer1 transpose: layer7 k = 4 s = 2 -->\", d1.shape)\n",
    "        print(\"decoderlayer2 skip: decoderlayer1 and layer4conv1x1 -->\", s2.shape)\n",
    "        print(\"decoderlayer3 transpose: decoderlayer2 k = 4 s = 2 -->\", d3.shape)\n",
    "        print(\"decoderlayer4 skip: decoderlayer3 and layer3conv1x1 -->\", s4.shape)\n",
    "        print(\"decoderlayer5 transpose: decoderlayer4 k = 16 s = 8 -->\", d5.shape)"
   ]
  },
  {
   "cell_type": "code",
   "execution_count": 19,
   "metadata": {
    "collapsed": false
   },
   "outputs": [
    {
     "name": "stdout",
     "output_type": "stream",
     "text": [
      "Training data size 0\n"
     ]
    },
    {
     "ename": "ResourceExhaustedError",
     "evalue": "OOM when allocating tensor with shape[7,7,512,4096]\n\t [[Node: save/Assign_27 = Assign[T=DT_FLOAT, _class=[\"loc:@fc6/weights\"], use_locking=true, validate_shape=true, _device=\"/job:localhost/replica:0/task:0/gpu:0\"](fc6/weights, save/RestoreV2_27/_7)]]\n\nCaused by op 'save/Assign_27', defined at:\n  File \"/Users/sahilmalhotra/anaconda/envs/tf-lab/lib/python3.5/runpy.py\", line 193, in _run_module_as_main\n    \"__main__\", mod_spec)\n  File \"/Users/sahilmalhotra/anaconda/envs/tf-lab/lib/python3.5/runpy.py\", line 85, in _run_code\n    exec(code, run_globals)\n  File \"/Users/sahilmalhotra/anaconda/envs/tf-lab/lib/python3.5/site-packages/ipykernel/__main__.py\", line 3, in <module>\n    app.launch_new_instance()\n  File \"/Users/sahilmalhotra/anaconda/envs/tf-lab/lib/python3.5/site-packages/traitlets/config/application.py\", line 658, in launch_instance\n    app.start()\n  File \"/Users/sahilmalhotra/anaconda/envs/tf-lab/lib/python3.5/site-packages/ipykernel/kernelapp.py\", line 474, in start\n    ioloop.IOLoop.instance().start()\n  File \"/Users/sahilmalhotra/anaconda/envs/tf-lab/lib/python3.5/site-packages/zmq/eventloop/ioloop.py\", line 177, in start\n    super(ZMQIOLoop, self).start()\n  File \"/Users/sahilmalhotra/anaconda/envs/tf-lab/lib/python3.5/site-packages/tornado/ioloop.py\", line 887, in start\n    handler_func(fd_obj, events)\n  File \"/Users/sahilmalhotra/anaconda/envs/tf-lab/lib/python3.5/site-packages/tornado/stack_context.py\", line 275, in null_wrapper\n    return fn(*args, **kwargs)\n  File \"/Users/sahilmalhotra/anaconda/envs/tf-lab/lib/python3.5/site-packages/zmq/eventloop/zmqstream.py\", line 440, in _handle_events\n    self._handle_recv()\n  File \"/Users/sahilmalhotra/anaconda/envs/tf-lab/lib/python3.5/site-packages/zmq/eventloop/zmqstream.py\", line 472, in _handle_recv\n    self._run_callback(callback, msg)\n  File \"/Users/sahilmalhotra/anaconda/envs/tf-lab/lib/python3.5/site-packages/zmq/eventloop/zmqstream.py\", line 414, in _run_callback\n    callback(*args, **kwargs)\n  File \"/Users/sahilmalhotra/anaconda/envs/tf-lab/lib/python3.5/site-packages/tornado/stack_context.py\", line 275, in null_wrapper\n    return fn(*args, **kwargs)\n  File \"/Users/sahilmalhotra/anaconda/envs/tf-lab/lib/python3.5/site-packages/ipykernel/kernelbase.py\", line 276, in dispatcher\n    return self.dispatch_shell(stream, msg)\n  File \"/Users/sahilmalhotra/anaconda/envs/tf-lab/lib/python3.5/site-packages/ipykernel/kernelbase.py\", line 228, in dispatch_shell\n    handler(stream, idents, msg)\n  File \"/Users/sahilmalhotra/anaconda/envs/tf-lab/lib/python3.5/site-packages/ipykernel/kernelbase.py\", line 390, in execute_request\n    user_expressions, allow_stdin)\n  File \"/Users/sahilmalhotra/anaconda/envs/tf-lab/lib/python3.5/site-packages/ipykernel/ipkernel.py\", line 196, in do_execute\n    res = shell.run_cell(code, store_history=store_history, silent=silent)\n  File \"/Users/sahilmalhotra/anaconda/envs/tf-lab/lib/python3.5/site-packages/ipykernel/zmqshell.py\", line 501, in run_cell\n    return super(ZMQInteractiveShell, self).run_cell(*args, **kwargs)\n  File \"/Users/sahilmalhotra/anaconda/envs/tf-lab/lib/python3.5/site-packages/IPython/core/interactiveshell.py\", line 2717, in run_cell\n    interactivity=interactivity, compiler=compiler, result=result)\n  File \"/Users/sahilmalhotra/anaconda/envs/tf-lab/lib/python3.5/site-packages/IPython/core/interactiveshell.py\", line 2827, in run_ast_nodes\n    if self.run_code(code, result):\n  File \"/Users/sahilmalhotra/anaconda/envs/tf-lab/lib/python3.5/site-packages/IPython/core/interactiveshell.py\", line 2881, in run_code\n    exec(code_obj, self.user_global_ns, self.user_ns)\n  File \"<ipython-input-18-157c9bda2cd6>\", line 1, in <module>\n    run()\n  File \"<ipython-input-16-c8bbae680200>\", line 15, in run\n    image_input, keep_prob, layer_3, layer_4, layer_7 = load_vgg(session, vgg_dir)\n  File \"<ipython-input-8-ea30449bfaaf>\", line 9, in load_vgg\n    model = tf.saved_model.loader.load(sess, ['vgg16'], vgg_dir)\n  File \"/Users/sahilmalhotra/anaconda/envs/tf-lab/lib/python3.5/site-packages/tensorflow/python/saved_model/loader_impl.py\", line 212, in load\n    saver = tf_saver.import_meta_graph(meta_graph_def_to_load, **saver_kwargs)\n  File \"/Users/sahilmalhotra/anaconda/envs/tf-lab/lib/python3.5/site-packages/tensorflow/python/training/saver.py\", line 1577, in import_meta_graph\n    **kwargs)\n  File \"/Users/sahilmalhotra/anaconda/envs/tf-lab/lib/python3.5/site-packages/tensorflow/python/framework/meta_graph.py\", line 498, in import_scoped_meta_graph\n    producer_op_list=producer_op_list)\n  File \"/Users/sahilmalhotra/anaconda/envs/tf-lab/lib/python3.5/site-packages/tensorflow/python/framework/importer.py\", line 287, in import_graph_def\n    op_def=op_def)\n  File \"/Users/sahilmalhotra/anaconda/envs/tf-lab/lib/python3.5/site-packages/tensorflow/python/framework/ops.py\", line 2395, in create_op\n    original_op=self._default_original_op, op_def=op_def)\n  File \"/Users/sahilmalhotra/anaconda/envs/tf-lab/lib/python3.5/site-packages/tensorflow/python/framework/ops.py\", line 1264, in __init__\n    self._traceback = _extract_stack()\n\nResourceExhaustedError (see above for traceback): OOM when allocating tensor with shape[7,7,512,4096]\n\t [[Node: save/Assign_27 = Assign[T=DT_FLOAT, _class=[\"loc:@fc6/weights\"], use_locking=true, validate_shape=true, _device=\"/job:localhost/replica:0/task:0/gpu:0\"](fc6/weights, save/RestoreV2_27/_7)]]\n",
     "output_type": "error",
     "traceback": [
      "\u001b[0;31m---------------------------------------------------------------------------\u001b[0m",
      "\u001b[0;31mResourceExhaustedError\u001b[0m                    Traceback (most recent call last)",
      "\u001b[0;32m/Users/sahilmalhotra/anaconda/envs/tf-lab/lib/python3.5/site-packages/tensorflow/python/client/session.py\u001b[0m in \u001b[0;36m_do_call\u001b[0;34m(self, fn, *args)\u001b[0m\n\u001b[1;32m   1021\u001b[0m     \u001b[0;32mtry\u001b[0m\u001b[0;34m:\u001b[0m\u001b[0;34m\u001b[0m\u001b[0m\n\u001b[0;32m-> 1022\u001b[0;31m       \u001b[0;32mreturn\u001b[0m \u001b[0mfn\u001b[0m\u001b[0;34m(\u001b[0m\u001b[0;34m*\u001b[0m\u001b[0margs\u001b[0m\u001b[0;34m)\u001b[0m\u001b[0;34m\u001b[0m\u001b[0m\n\u001b[0m\u001b[1;32m   1023\u001b[0m     \u001b[0;32mexcept\u001b[0m \u001b[0merrors\u001b[0m\u001b[0;34m.\u001b[0m\u001b[0mOpError\u001b[0m \u001b[0;32mas\u001b[0m \u001b[0me\u001b[0m\u001b[0;34m:\u001b[0m\u001b[0;34m\u001b[0m\u001b[0m\n",
      "\u001b[0;32m/Users/sahilmalhotra/anaconda/envs/tf-lab/lib/python3.5/site-packages/tensorflow/python/client/session.py\u001b[0m in \u001b[0;36m_run_fn\u001b[0;34m(session, feed_dict, fetch_list, target_list, options, run_metadata)\u001b[0m\n\u001b[1;32m   1003\u001b[0m                                  \u001b[0mfeed_dict\u001b[0m\u001b[0;34m,\u001b[0m \u001b[0mfetch_list\u001b[0m\u001b[0;34m,\u001b[0m \u001b[0mtarget_list\u001b[0m\u001b[0;34m,\u001b[0m\u001b[0;34m\u001b[0m\u001b[0m\n\u001b[0;32m-> 1004\u001b[0;31m                                  status, run_metadata)\n\u001b[0m\u001b[1;32m   1005\u001b[0m \u001b[0;34m\u001b[0m\u001b[0m\n",
      "\u001b[0;32m/Users/sahilmalhotra/anaconda/envs/tf-lab/lib/python3.5/contextlib.py\u001b[0m in \u001b[0;36m__exit__\u001b[0;34m(self, type, value, traceback)\u001b[0m\n\u001b[1;32m     65\u001b[0m             \u001b[0;32mtry\u001b[0m\u001b[0;34m:\u001b[0m\u001b[0;34m\u001b[0m\u001b[0m\n\u001b[0;32m---> 66\u001b[0;31m                 \u001b[0mnext\u001b[0m\u001b[0;34m(\u001b[0m\u001b[0mself\u001b[0m\u001b[0;34m.\u001b[0m\u001b[0mgen\u001b[0m\u001b[0;34m)\u001b[0m\u001b[0;34m\u001b[0m\u001b[0m\n\u001b[0m\u001b[1;32m     67\u001b[0m             \u001b[0;32mexcept\u001b[0m \u001b[0mStopIteration\u001b[0m\u001b[0;34m:\u001b[0m\u001b[0;34m\u001b[0m\u001b[0m\n",
      "\u001b[0;32m/Users/sahilmalhotra/anaconda/envs/tf-lab/lib/python3.5/site-packages/tensorflow/python/framework/errors_impl.py\u001b[0m in \u001b[0;36mraise_exception_on_not_ok_status\u001b[0;34m()\u001b[0m\n\u001b[1;32m    468\u001b[0m           \u001b[0mcompat\u001b[0m\u001b[0;34m.\u001b[0m\u001b[0mas_text\u001b[0m\u001b[0;34m(\u001b[0m\u001b[0mpywrap_tensorflow\u001b[0m\u001b[0;34m.\u001b[0m\u001b[0mTF_Message\u001b[0m\u001b[0;34m(\u001b[0m\u001b[0mstatus\u001b[0m\u001b[0;34m)\u001b[0m\u001b[0;34m)\u001b[0m\u001b[0;34m,\u001b[0m\u001b[0;34m\u001b[0m\u001b[0m\n\u001b[0;32m--> 469\u001b[0;31m           pywrap_tensorflow.TF_GetCode(status))\n\u001b[0m\u001b[1;32m    470\u001b[0m   \u001b[0;32mfinally\u001b[0m\u001b[0;34m:\u001b[0m\u001b[0;34m\u001b[0m\u001b[0m\n",
      "\u001b[0;31mResourceExhaustedError\u001b[0m: OOM when allocating tensor with shape[7,7,512,4096]\n\t [[Node: save/Assign_27 = Assign[T=DT_FLOAT, _class=[\"loc:@fc6/weights\"], use_locking=true, validate_shape=true, _device=\"/job:localhost/replica:0/task:0/gpu:0\"](fc6/weights, save/RestoreV2_27/_7)]]",
      "\nDuring handling of the above exception, another exception occurred:\n",
      "\u001b[0;31mResourceExhaustedError\u001b[0m                    Traceback (most recent call last)",
      "\u001b[0;32m<ipython-input-19-157c9bda2cd6>\u001b[0m in \u001b[0;36m<module>\u001b[0;34m()\u001b[0m\n\u001b[0;32m----> 1\u001b[0;31m \u001b[0mrun\u001b[0m\u001b[0;34m(\u001b[0m\u001b[0;34m)\u001b[0m\u001b[0;34m\u001b[0m\u001b[0m\n\u001b[0m",
      "\u001b[0;32m<ipython-input-16-c8bbae680200>\u001b[0m in \u001b[0;36mrun\u001b[0;34m()\u001b[0m\n\u001b[1;32m     13\u001b[0m \u001b[0;34m\u001b[0m\u001b[0m\n\u001b[1;32m     14\u001b[0m         \u001b[0;31m# Returns the input dropout and output layers from vgg\u001b[0m\u001b[0;34m\u001b[0m\u001b[0;34m\u001b[0m\u001b[0m\n\u001b[0;32m---> 15\u001b[0;31m         \u001b[0mimage_input\u001b[0m\u001b[0;34m,\u001b[0m \u001b[0mkeep_prob\u001b[0m\u001b[0;34m,\u001b[0m \u001b[0mlayer_3\u001b[0m\u001b[0;34m,\u001b[0m \u001b[0mlayer_4\u001b[0m\u001b[0;34m,\u001b[0m \u001b[0mlayer_7\u001b[0m \u001b[0;34m=\u001b[0m \u001b[0mload_vgg\u001b[0m\u001b[0;34m(\u001b[0m\u001b[0msession\u001b[0m\u001b[0;34m,\u001b[0m \u001b[0mvgg_dir\u001b[0m\u001b[0;34m)\u001b[0m\u001b[0;34m\u001b[0m\u001b[0m\n\u001b[0m\u001b[1;32m     16\u001b[0m \u001b[0;34m\u001b[0m\u001b[0m\n\u001b[1;32m     17\u001b[0m         \u001b[0;31m# Create the layers and get the output\u001b[0m\u001b[0;34m\u001b[0m\u001b[0;34m\u001b[0m\u001b[0m\n",
      "\u001b[0;32m<ipython-input-8-ea30449bfaaf>\u001b[0m in \u001b[0;36mload_vgg\u001b[0;34m(sess, vgg_dir)\u001b[0m\n\u001b[1;32m      7\u001b[0m     \"\"\"\n\u001b[1;32m      8\u001b[0m     \u001b[0;31m# Load Model with Weights from vgg directory\u001b[0m\u001b[0;34m\u001b[0m\u001b[0;34m\u001b[0m\u001b[0m\n\u001b[0;32m----> 9\u001b[0;31m     \u001b[0mmodel\u001b[0m \u001b[0;34m=\u001b[0m \u001b[0mtf\u001b[0m\u001b[0;34m.\u001b[0m\u001b[0msaved_model\u001b[0m\u001b[0;34m.\u001b[0m\u001b[0mloader\u001b[0m\u001b[0;34m.\u001b[0m\u001b[0mload\u001b[0m\u001b[0;34m(\u001b[0m\u001b[0msess\u001b[0m\u001b[0;34m,\u001b[0m \u001b[0;34m[\u001b[0m\u001b[0;34m'vgg16'\u001b[0m\u001b[0;34m]\u001b[0m\u001b[0;34m,\u001b[0m \u001b[0mvgg_dir\u001b[0m\u001b[0;34m)\u001b[0m\u001b[0;34m\u001b[0m\u001b[0m\n\u001b[0m\u001b[1;32m     10\u001b[0m \u001b[0;34m\u001b[0m\u001b[0m\n\u001b[1;32m     11\u001b[0m     \u001b[0;31m# Setup tensors to get from graph ( vgg after loading)\u001b[0m\u001b[0;34m\u001b[0m\u001b[0;34m\u001b[0m\u001b[0m\n",
      "\u001b[0;32m/Users/sahilmalhotra/anaconda/envs/tf-lab/lib/python3.5/site-packages/tensorflow/python/saved_model/loader_impl.py\u001b[0m in \u001b[0;36mload\u001b[0;34m(sess, tags, export_dir, **saver_kwargs)\u001b[0m\n\u001b[1;32m    220\u001b[0m \u001b[0;34m\u001b[0m\u001b[0m\n\u001b[1;32m    221\u001b[0m     \u001b[0;31m# Restore the variables using the built saver in the provided session.\u001b[0m\u001b[0;34m\u001b[0m\u001b[0;34m\u001b[0m\u001b[0m\n\u001b[0;32m--> 222\u001b[0;31m     \u001b[0msaver\u001b[0m\u001b[0;34m.\u001b[0m\u001b[0mrestore\u001b[0m\u001b[0;34m(\u001b[0m\u001b[0msess\u001b[0m\u001b[0;34m,\u001b[0m \u001b[0mvariables_path\u001b[0m\u001b[0;34m)\u001b[0m\u001b[0;34m\u001b[0m\u001b[0m\n\u001b[0m\u001b[1;32m    223\u001b[0m   \u001b[0;32melse\u001b[0m\u001b[0;34m:\u001b[0m\u001b[0;34m\u001b[0m\u001b[0m\n\u001b[1;32m    224\u001b[0m     tf_logging.info(\"The specified SavedModel has no variables; no \"\n",
      "\u001b[0;32m/Users/sahilmalhotra/anaconda/envs/tf-lab/lib/python3.5/site-packages/tensorflow/python/training/saver.py\u001b[0m in \u001b[0;36mrestore\u001b[0;34m(self, sess, save_path)\u001b[0m\n\u001b[1;32m   1437\u001b[0m       \u001b[0;32mreturn\u001b[0m\u001b[0;34m\u001b[0m\u001b[0m\n\u001b[1;32m   1438\u001b[0m     sess.run(self.saver_def.restore_op_name,\n\u001b[0;32m-> 1439\u001b[0;31m              {self.saver_def.filename_tensor_name: save_path})\n\u001b[0m\u001b[1;32m   1440\u001b[0m \u001b[0;34m\u001b[0m\u001b[0m\n\u001b[1;32m   1441\u001b[0m   \u001b[0;34m@\u001b[0m\u001b[0mstaticmethod\u001b[0m\u001b[0;34m\u001b[0m\u001b[0m\n",
      "\u001b[0;32m/Users/sahilmalhotra/anaconda/envs/tf-lab/lib/python3.5/site-packages/tensorflow/python/client/session.py\u001b[0m in \u001b[0;36mrun\u001b[0;34m(self, fetches, feed_dict, options, run_metadata)\u001b[0m\n\u001b[1;32m    765\u001b[0m     \u001b[0;32mtry\u001b[0m\u001b[0;34m:\u001b[0m\u001b[0;34m\u001b[0m\u001b[0m\n\u001b[1;32m    766\u001b[0m       result = self._run(None, fetches, feed_dict, options_ptr,\n\u001b[0;32m--> 767\u001b[0;31m                          run_metadata_ptr)\n\u001b[0m\u001b[1;32m    768\u001b[0m       \u001b[0;32mif\u001b[0m \u001b[0mrun_metadata\u001b[0m\u001b[0;34m:\u001b[0m\u001b[0;34m\u001b[0m\u001b[0m\n\u001b[1;32m    769\u001b[0m         \u001b[0mproto_data\u001b[0m \u001b[0;34m=\u001b[0m \u001b[0mtf_session\u001b[0m\u001b[0;34m.\u001b[0m\u001b[0mTF_GetBuffer\u001b[0m\u001b[0;34m(\u001b[0m\u001b[0mrun_metadata_ptr\u001b[0m\u001b[0;34m)\u001b[0m\u001b[0;34m\u001b[0m\u001b[0m\n",
      "\u001b[0;32m/Users/sahilmalhotra/anaconda/envs/tf-lab/lib/python3.5/site-packages/tensorflow/python/client/session.py\u001b[0m in \u001b[0;36m_run\u001b[0;34m(self, handle, fetches, feed_dict, options, run_metadata)\u001b[0m\n\u001b[1;32m    963\u001b[0m     \u001b[0;32mif\u001b[0m \u001b[0mfinal_fetches\u001b[0m \u001b[0;32mor\u001b[0m \u001b[0mfinal_targets\u001b[0m\u001b[0;34m:\u001b[0m\u001b[0;34m\u001b[0m\u001b[0m\n\u001b[1;32m    964\u001b[0m       results = self._do_run(handle, final_targets, final_fetches,\n\u001b[0;32m--> 965\u001b[0;31m                              feed_dict_string, options, run_metadata)\n\u001b[0m\u001b[1;32m    966\u001b[0m     \u001b[0;32melse\u001b[0m\u001b[0;34m:\u001b[0m\u001b[0;34m\u001b[0m\u001b[0m\n\u001b[1;32m    967\u001b[0m       \u001b[0mresults\u001b[0m \u001b[0;34m=\u001b[0m \u001b[0;34m[\u001b[0m\u001b[0;34m]\u001b[0m\u001b[0;34m\u001b[0m\u001b[0m\n",
      "\u001b[0;32m/Users/sahilmalhotra/anaconda/envs/tf-lab/lib/python3.5/site-packages/tensorflow/python/client/session.py\u001b[0m in \u001b[0;36m_do_run\u001b[0;34m(self, handle, target_list, fetch_list, feed_dict, options, run_metadata)\u001b[0m\n\u001b[1;32m   1013\u001b[0m     \u001b[0;32mif\u001b[0m \u001b[0mhandle\u001b[0m \u001b[0;32mis\u001b[0m \u001b[0;32mNone\u001b[0m\u001b[0;34m:\u001b[0m\u001b[0;34m\u001b[0m\u001b[0m\n\u001b[1;32m   1014\u001b[0m       return self._do_call(_run_fn, self._session, feed_dict, fetch_list,\n\u001b[0;32m-> 1015\u001b[0;31m                            target_list, options, run_metadata)\n\u001b[0m\u001b[1;32m   1016\u001b[0m     \u001b[0;32melse\u001b[0m\u001b[0;34m:\u001b[0m\u001b[0;34m\u001b[0m\u001b[0m\n\u001b[1;32m   1017\u001b[0m       return self._do_call(_prun_fn, self._session, handle, feed_dict,\n",
      "\u001b[0;32m/Users/sahilmalhotra/anaconda/envs/tf-lab/lib/python3.5/site-packages/tensorflow/python/client/session.py\u001b[0m in \u001b[0;36m_do_call\u001b[0;34m(self, fn, *args)\u001b[0m\n\u001b[1;32m   1033\u001b[0m         \u001b[0;32mexcept\u001b[0m \u001b[0mKeyError\u001b[0m\u001b[0;34m:\u001b[0m\u001b[0;34m\u001b[0m\u001b[0m\n\u001b[1;32m   1034\u001b[0m           \u001b[0;32mpass\u001b[0m\u001b[0;34m\u001b[0m\u001b[0m\n\u001b[0;32m-> 1035\u001b[0;31m       \u001b[0;32mraise\u001b[0m \u001b[0mtype\u001b[0m\u001b[0;34m(\u001b[0m\u001b[0me\u001b[0m\u001b[0;34m)\u001b[0m\u001b[0;34m(\u001b[0m\u001b[0mnode_def\u001b[0m\u001b[0;34m,\u001b[0m \u001b[0mop\u001b[0m\u001b[0;34m,\u001b[0m \u001b[0mmessage\u001b[0m\u001b[0;34m)\u001b[0m\u001b[0;34m\u001b[0m\u001b[0m\n\u001b[0m\u001b[1;32m   1036\u001b[0m \u001b[0;34m\u001b[0m\u001b[0m\n\u001b[1;32m   1037\u001b[0m   \u001b[0;32mdef\u001b[0m \u001b[0m_extend_graph\u001b[0m\u001b[0;34m(\u001b[0m\u001b[0mself\u001b[0m\u001b[0;34m)\u001b[0m\u001b[0;34m:\u001b[0m\u001b[0;34m\u001b[0m\u001b[0m\n",
      "\u001b[0;31mResourceExhaustedError\u001b[0m: OOM when allocating tensor with shape[7,7,512,4096]\n\t [[Node: save/Assign_27 = Assign[T=DT_FLOAT, _class=[\"loc:@fc6/weights\"], use_locking=true, validate_shape=true, _device=\"/job:localhost/replica:0/task:0/gpu:0\"](fc6/weights, save/RestoreV2_27/_7)]]\n\nCaused by op 'save/Assign_27', defined at:\n  File \"/Users/sahilmalhotra/anaconda/envs/tf-lab/lib/python3.5/runpy.py\", line 193, in _run_module_as_main\n    \"__main__\", mod_spec)\n  File \"/Users/sahilmalhotra/anaconda/envs/tf-lab/lib/python3.5/runpy.py\", line 85, in _run_code\n    exec(code, run_globals)\n  File \"/Users/sahilmalhotra/anaconda/envs/tf-lab/lib/python3.5/site-packages/ipykernel/__main__.py\", line 3, in <module>\n    app.launch_new_instance()\n  File \"/Users/sahilmalhotra/anaconda/envs/tf-lab/lib/python3.5/site-packages/traitlets/config/application.py\", line 658, in launch_instance\n    app.start()\n  File \"/Users/sahilmalhotra/anaconda/envs/tf-lab/lib/python3.5/site-packages/ipykernel/kernelapp.py\", line 474, in start\n    ioloop.IOLoop.instance().start()\n  File \"/Users/sahilmalhotra/anaconda/envs/tf-lab/lib/python3.5/site-packages/zmq/eventloop/ioloop.py\", line 177, in start\n    super(ZMQIOLoop, self).start()\n  File \"/Users/sahilmalhotra/anaconda/envs/tf-lab/lib/python3.5/site-packages/tornado/ioloop.py\", line 887, in start\n    handler_func(fd_obj, events)\n  File \"/Users/sahilmalhotra/anaconda/envs/tf-lab/lib/python3.5/site-packages/tornado/stack_context.py\", line 275, in null_wrapper\n    return fn(*args, **kwargs)\n  File \"/Users/sahilmalhotra/anaconda/envs/tf-lab/lib/python3.5/site-packages/zmq/eventloop/zmqstream.py\", line 440, in _handle_events\n    self._handle_recv()\n  File \"/Users/sahilmalhotra/anaconda/envs/tf-lab/lib/python3.5/site-packages/zmq/eventloop/zmqstream.py\", line 472, in _handle_recv\n    self._run_callback(callback, msg)\n  File \"/Users/sahilmalhotra/anaconda/envs/tf-lab/lib/python3.5/site-packages/zmq/eventloop/zmqstream.py\", line 414, in _run_callback\n    callback(*args, **kwargs)\n  File \"/Users/sahilmalhotra/anaconda/envs/tf-lab/lib/python3.5/site-packages/tornado/stack_context.py\", line 275, in null_wrapper\n    return fn(*args, **kwargs)\n  File \"/Users/sahilmalhotra/anaconda/envs/tf-lab/lib/python3.5/site-packages/ipykernel/kernelbase.py\", line 276, in dispatcher\n    return self.dispatch_shell(stream, msg)\n  File \"/Users/sahilmalhotra/anaconda/envs/tf-lab/lib/python3.5/site-packages/ipykernel/kernelbase.py\", line 228, in dispatch_shell\n    handler(stream, idents, msg)\n  File \"/Users/sahilmalhotra/anaconda/envs/tf-lab/lib/python3.5/site-packages/ipykernel/kernelbase.py\", line 390, in execute_request\n    user_expressions, allow_stdin)\n  File \"/Users/sahilmalhotra/anaconda/envs/tf-lab/lib/python3.5/site-packages/ipykernel/ipkernel.py\", line 196, in do_execute\n    res = shell.run_cell(code, store_history=store_history, silent=silent)\n  File \"/Users/sahilmalhotra/anaconda/envs/tf-lab/lib/python3.5/site-packages/ipykernel/zmqshell.py\", line 501, in run_cell\n    return super(ZMQInteractiveShell, self).run_cell(*args, **kwargs)\n  File \"/Users/sahilmalhotra/anaconda/envs/tf-lab/lib/python3.5/site-packages/IPython/core/interactiveshell.py\", line 2717, in run_cell\n    interactivity=interactivity, compiler=compiler, result=result)\n  File \"/Users/sahilmalhotra/anaconda/envs/tf-lab/lib/python3.5/site-packages/IPython/core/interactiveshell.py\", line 2827, in run_ast_nodes\n    if self.run_code(code, result):\n  File \"/Users/sahilmalhotra/anaconda/envs/tf-lab/lib/python3.5/site-packages/IPython/core/interactiveshell.py\", line 2881, in run_code\n    exec(code_obj, self.user_global_ns, self.user_ns)\n  File \"<ipython-input-18-157c9bda2cd6>\", line 1, in <module>\n    run()\n  File \"<ipython-input-16-c8bbae680200>\", line 15, in run\n    image_input, keep_prob, layer_3, layer_4, layer_7 = load_vgg(session, vgg_dir)\n  File \"<ipython-input-8-ea30449bfaaf>\", line 9, in load_vgg\n    model = tf.saved_model.loader.load(sess, ['vgg16'], vgg_dir)\n  File \"/Users/sahilmalhotra/anaconda/envs/tf-lab/lib/python3.5/site-packages/tensorflow/python/saved_model/loader_impl.py\", line 212, in load\n    saver = tf_saver.import_meta_graph(meta_graph_def_to_load, **saver_kwargs)\n  File \"/Users/sahilmalhotra/anaconda/envs/tf-lab/lib/python3.5/site-packages/tensorflow/python/training/saver.py\", line 1577, in import_meta_graph\n    **kwargs)\n  File \"/Users/sahilmalhotra/anaconda/envs/tf-lab/lib/python3.5/site-packages/tensorflow/python/framework/meta_graph.py\", line 498, in import_scoped_meta_graph\n    producer_op_list=producer_op_list)\n  File \"/Users/sahilmalhotra/anaconda/envs/tf-lab/lib/python3.5/site-packages/tensorflow/python/framework/importer.py\", line 287, in import_graph_def\n    op_def=op_def)\n  File \"/Users/sahilmalhotra/anaconda/envs/tf-lab/lib/python3.5/site-packages/tensorflow/python/framework/ops.py\", line 2395, in create_op\n    original_op=self._default_original_op, op_def=op_def)\n  File \"/Users/sahilmalhotra/anaconda/envs/tf-lab/lib/python3.5/site-packages/tensorflow/python/framework/ops.py\", line 1264, in __init__\n    self._traceback = _extract_stack()\n\nResourceExhaustedError (see above for traceback): OOM when allocating tensor with shape[7,7,512,4096]\n\t [[Node: save/Assign_27 = Assign[T=DT_FLOAT, _class=[\"loc:@fc6/weights\"], use_locking=true, validate_shape=true, _device=\"/job:localhost/replica:0/task:0/gpu:0\"](fc6/weights, save/RestoreV2_27/_7)]]\n"
     ]
    }
   ],
   "source": [
    "run()"
   ]
  },
  {
   "cell_type": "code",
   "execution_count": null,
   "metadata": {
    "collapsed": true
   },
   "outputs": [],
   "source": []
  }
 ],
 "metadata": {
  "kernelspec": {
   "display_name": "Python 3",
   "language": "python",
   "name": "python3"
  },
  "language_info": {
   "codemirror_mode": {
    "name": "ipython",
    "version": 3
   },
   "file_extension": ".py",
   "mimetype": "text/x-python",
   "name": "python",
   "nbconvert_exporter": "python",
   "pygments_lexer": "ipython3",
   "version": "3.5.3"
  }
 },
 "nbformat": 4,
 "nbformat_minor": 2
}
